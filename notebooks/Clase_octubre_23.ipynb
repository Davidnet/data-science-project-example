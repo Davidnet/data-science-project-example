{
  "nbformat": 4,
  "nbformat_minor": 0,
  "metadata": {
    "colab": {
      "name": "Clase_octubre_23.ipynb",
      "provenance": []
    },
    "kernelspec": {
      "name": "python3",
      "display_name": "Python 3"
    }
  },
  "cells": [
    {
      "cell_type": "code",
      "metadata": {
        "id": "pXm-VfV1vjfL"
      },
      "source": [
        "import pandas as pd\n",
        "import numpy as np\n",
        "import matplotlib.pyplot as plt\n",
        "import seaborn as sns\n",
        "import altair as alt"
      ],
      "execution_count": null,
      "outputs": []
    },
    {
      "cell_type": "code",
      "metadata": {
        "id": "QSrTbhLAuPjn",
        "outputId": "626a090d-9fd4-456a-93f6-fea3bd62d625",
        "colab": {
          "base_uri": "https://localhost:8080/",
          "height": 212
        }
      },
      "source": [
        "!wget \"https://raw.githubusercontent.com/rubzk/datasourceai-pice-competition/master/data/train.csv\""
      ],
      "execution_count": null,
      "outputs": [
        {
          "output_type": "stream",
          "text": [
            "--2020-10-23 23:13:01--  https://raw.githubusercontent.com/rubzk/datasourceai-pice-competition/master/data/train.csv\n",
            "Resolving raw.githubusercontent.com (raw.githubusercontent.com)... 151.101.0.133, 151.101.64.133, 151.101.128.133, ...\n",
            "Connecting to raw.githubusercontent.com (raw.githubusercontent.com)|151.101.0.133|:443... connected.\n",
            "HTTP request sent, awaiting response... 200 OK\n",
            "Length: 2336360 (2.2M) [text/plain]\n",
            "Saving to: ‘train.csv’\n",
            "\n",
            "train.csv           100%[===================>]   2.23M  11.8MB/s    in 0.2s    \n",
            "\n",
            "2020-10-23 23:13:01 (11.8 MB/s) - ‘train.csv’ saved [2336360/2336360]\n",
            "\n"
          ],
          "name": "stdout"
        }
      ]
    },
    {
      "cell_type": "code",
      "metadata": {
        "id": "lT2A1EkNvPPU"
      },
      "source": [
        "train = pd.read_csv(\"/content/train.csv\")"
      ],
      "execution_count": null,
      "outputs": []
    },
    {
      "cell_type": "code",
      "metadata": {
        "id": "PL2wz3cqywHe",
        "outputId": "610a9570-36af-4782-f654-9ba43fa50350",
        "colab": {
          "base_uri": "https://localhost:8080/",
          "height": 35
        }
      },
      "source": [
        "train.shape"
      ],
      "execution_count": null,
      "outputs": [
        {
          "output_type": "execute_result",
          "data": {
            "text/plain": [
              "(25660, 12)"
            ]
          },
          "metadata": {
            "tags": []
          },
          "execution_count": 7
        }
      ]
    },
    {
      "cell_type": "code",
      "metadata": {
        "id": "e5e-jHs5yyiD",
        "outputId": "73b81b8b-f200-4df0-c392-3f4d15ff59e9",
        "colab": {
          "base_uri": "https://localhost:8080/",
          "height": 88
        }
      },
      "source": [
        "train.columns"
      ],
      "execution_count": null,
      "outputs": [
        {
          "output_type": "execute_result",
          "data": {
            "text/plain": [
              "Index(['Id', 'pais', 'provincia_departamento', 'ciudad', 'property_type',\n",
              "       'operation_type', 'rooms', 'bedrooms', 'bathrooms', 'surface_total',\n",
              "       'currency', 'price'],\n",
              "      dtype='object')"
            ]
          },
          "metadata": {
            "tags": []
          },
          "execution_count": 8
        }
      ]
    },
    {
      "cell_type": "code",
      "metadata": {
        "id": "ONlUnF8my4ie",
        "outputId": "00921bfe-15bf-4c25-a50d-177b149af82f",
        "colab": {
          "base_uri": "https://localhost:8080/",
          "height": 340
        }
      },
      "source": [
        "train.sample(10)"
      ],
      "execution_count": null,
      "outputs": [
        {
          "output_type": "execute_result",
          "data": {
            "text/html": [
              "<div>\n",
              "<style scoped>\n",
              "    .dataframe tbody tr th:only-of-type {\n",
              "        vertical-align: middle;\n",
              "    }\n",
              "\n",
              "    .dataframe tbody tr th {\n",
              "        vertical-align: top;\n",
              "    }\n",
              "\n",
              "    .dataframe thead th {\n",
              "        text-align: right;\n",
              "    }\n",
              "</style>\n",
              "<table border=\"1\" class=\"dataframe\">\n",
              "  <thead>\n",
              "    <tr style=\"text-align: right;\">\n",
              "      <th></th>\n",
              "      <th>Id</th>\n",
              "      <th>pais</th>\n",
              "      <th>provincia_departamento</th>\n",
              "      <th>ciudad</th>\n",
              "      <th>property_type</th>\n",
              "      <th>operation_type</th>\n",
              "      <th>rooms</th>\n",
              "      <th>bedrooms</th>\n",
              "      <th>bathrooms</th>\n",
              "      <th>surface_total</th>\n",
              "      <th>currency</th>\n",
              "      <th>price</th>\n",
              "    </tr>\n",
              "  </thead>\n",
              "  <tbody>\n",
              "    <tr>\n",
              "      <th>24066</th>\n",
              "      <td>24066</td>\n",
              "      <td>Argentina</td>\n",
              "      <td>Capital Federal</td>\n",
              "      <td>Recoleta</td>\n",
              "      <td>Departamento</td>\n",
              "      <td>Venta</td>\n",
              "      <td>5.0</td>\n",
              "      <td>4.0</td>\n",
              "      <td>3.0</td>\n",
              "      <td>187.0</td>\n",
              "      <td>USD</td>\n",
              "      <td>620000.0</td>\n",
              "    </tr>\n",
              "    <tr>\n",
              "      <th>17648</th>\n",
              "      <td>17648</td>\n",
              "      <td>Colombia</td>\n",
              "      <td>Magdalena</td>\n",
              "      <td>Santa Marta</td>\n",
              "      <td>Apartamento</td>\n",
              "      <td>Venta</td>\n",
              "      <td>4.0</td>\n",
              "      <td>4.0</td>\n",
              "      <td>5.0</td>\n",
              "      <td>179.0</td>\n",
              "      <td>USD</td>\n",
              "      <td>266051.0</td>\n",
              "    </tr>\n",
              "    <tr>\n",
              "      <th>5736</th>\n",
              "      <td>5736</td>\n",
              "      <td>Argentina</td>\n",
              "      <td>Córdoba</td>\n",
              "      <td>Villa Carlos Paz</td>\n",
              "      <td>Departamento</td>\n",
              "      <td>Venta</td>\n",
              "      <td>2.0</td>\n",
              "      <td>1.0</td>\n",
              "      <td>1.0</td>\n",
              "      <td>45.0</td>\n",
              "      <td>USD</td>\n",
              "      <td>90000.0</td>\n",
              "    </tr>\n",
              "    <tr>\n",
              "      <th>6603</th>\n",
              "      <td>6603</td>\n",
              "      <td>Colombia</td>\n",
              "      <td>Cundinamarca</td>\n",
              "      <td>Bogotá D.C</td>\n",
              "      <td>Apartamento</td>\n",
              "      <td>Venta</td>\n",
              "      <td>3.0</td>\n",
              "      <td>3.0</td>\n",
              "      <td>4.0</td>\n",
              "      <td>129.0</td>\n",
              "      <td>USD</td>\n",
              "      <td>187173.0</td>\n",
              "    </tr>\n",
              "    <tr>\n",
              "      <th>4654</th>\n",
              "      <td>4654</td>\n",
              "      <td>Argentina</td>\n",
              "      <td>Buenos Aires Costa Atlántica</td>\n",
              "      <td>Mar del Plata</td>\n",
              "      <td>Departamento</td>\n",
              "      <td>Venta</td>\n",
              "      <td>4.0</td>\n",
              "      <td>3.0</td>\n",
              "      <td>2.0</td>\n",
              "      <td>130.0</td>\n",
              "      <td>USD</td>\n",
              "      <td>420000.0</td>\n",
              "    </tr>\n",
              "    <tr>\n",
              "      <th>23158</th>\n",
              "      <td>23158</td>\n",
              "      <td>Colombia</td>\n",
              "      <td>Cundinamarca</td>\n",
              "      <td>Bogotá D.C</td>\n",
              "      <td>Apartamento</td>\n",
              "      <td>Venta</td>\n",
              "      <td>3.0</td>\n",
              "      <td>3.0</td>\n",
              "      <td>1.0</td>\n",
              "      <td>50.0</td>\n",
              "      <td>USD</td>\n",
              "      <td>45417.0</td>\n",
              "    </tr>\n",
              "    <tr>\n",
              "      <th>13639</th>\n",
              "      <td>13639</td>\n",
              "      <td>Colombia</td>\n",
              "      <td>Atlántico</td>\n",
              "      <td>Barranquilla</td>\n",
              "      <td>Apartamento</td>\n",
              "      <td>Venta</td>\n",
              "      <td>3.0</td>\n",
              "      <td>3.0</td>\n",
              "      <td>2.0</td>\n",
              "      <td>105.0</td>\n",
              "      <td>USD</td>\n",
              "      <td>96339.0</td>\n",
              "    </tr>\n",
              "    <tr>\n",
              "      <th>15764</th>\n",
              "      <td>15764</td>\n",
              "      <td>Argentina</td>\n",
              "      <td>Bs.As. G.B.A. Zona Sur</td>\n",
              "      <td>Lanús</td>\n",
              "      <td>Departamento</td>\n",
              "      <td>Venta</td>\n",
              "      <td>1.0</td>\n",
              "      <td>1.0</td>\n",
              "      <td>1.0</td>\n",
              "      <td>39.0</td>\n",
              "      <td>USD</td>\n",
              "      <td>65000.0</td>\n",
              "    </tr>\n",
              "    <tr>\n",
              "      <th>22468</th>\n",
              "      <td>22468</td>\n",
              "      <td>Argentina</td>\n",
              "      <td>Capital Federal</td>\n",
              "      <td>Balvanera</td>\n",
              "      <td>Departamento</td>\n",
              "      <td>Venta</td>\n",
              "      <td>2.0</td>\n",
              "      <td>1.0</td>\n",
              "      <td>1.0</td>\n",
              "      <td>40.0</td>\n",
              "      <td>USD</td>\n",
              "      <td>95000.0</td>\n",
              "    </tr>\n",
              "    <tr>\n",
              "      <th>23449</th>\n",
              "      <td>23449</td>\n",
              "      <td>Argentina</td>\n",
              "      <td>Bs.As. G.B.A. Zona Norte</td>\n",
              "      <td>Pilar</td>\n",
              "      <td>Departamento</td>\n",
              "      <td>Venta</td>\n",
              "      <td>3.0</td>\n",
              "      <td>2.0</td>\n",
              "      <td>1.0</td>\n",
              "      <td>60.0</td>\n",
              "      <td>USD</td>\n",
              "      <td>74000.0</td>\n",
              "    </tr>\n",
              "  </tbody>\n",
              "</table>\n",
              "</div>"
            ],
            "text/plain": [
              "          Id       pais  ... currency     price\n",
              "24066  24066  Argentina  ...      USD  620000.0\n",
              "17648  17648   Colombia  ...      USD  266051.0\n",
              "5736    5736  Argentina  ...      USD   90000.0\n",
              "6603    6603   Colombia  ...      USD  187173.0\n",
              "4654    4654  Argentina  ...      USD  420000.0\n",
              "23158  23158   Colombia  ...      USD   45417.0\n",
              "13639  13639   Colombia  ...      USD   96339.0\n",
              "15764  15764  Argentina  ...      USD   65000.0\n",
              "22468  22468  Argentina  ...      USD   95000.0\n",
              "23449  23449  Argentina  ...      USD   74000.0\n",
              "\n",
              "[10 rows x 12 columns]"
            ]
          },
          "metadata": {
            "tags": []
          },
          "execution_count": 9
        }
      ]
    },
    {
      "cell_type": "code",
      "metadata": {
        "id": "Ql-K_BQUy_NJ",
        "outputId": "bfef9455-f906-4700-fb70-8433450dd9c0",
        "colab": {
          "base_uri": "https://localhost:8080/",
          "height": 70
        }
      },
      "source": [
        "train.property_type.value_counts()"
      ],
      "execution_count": null,
      "outputs": [
        {
          "output_type": "execute_result",
          "data": {
            "text/plain": [
              "Departamento    16892\n",
              "Apartamento      8768\n",
              "Name: property_type, dtype: int64"
            ]
          },
          "metadata": {
            "tags": []
          },
          "execution_count": 10
        }
      ]
    },
    {
      "cell_type": "code",
      "metadata": {
        "id": "ALmRlitrzF_L",
        "outputId": "6ee2bca2-a8b9-407a-a9b6-04e5de27e37a",
        "colab": {
          "base_uri": "https://localhost:8080/",
          "height": 52
        }
      },
      "source": [
        "train.currency.value_counts()"
      ],
      "execution_count": null,
      "outputs": [
        {
          "output_type": "execute_result",
          "data": {
            "text/plain": [
              "USD    25660\n",
              "Name: currency, dtype: int64"
            ]
          },
          "metadata": {
            "tags": []
          },
          "execution_count": 11
        }
      ]
    },
    {
      "cell_type": "code",
      "metadata": {
        "id": "Uq5yI8EHzMUE",
        "outputId": "4f6d579e-112e-4461-ba14-e669a6d9bc32",
        "colab": {
          "base_uri": "https://localhost:8080/",
          "height": 52
        }
      },
      "source": [
        "train.operation_type.value_counts()"
      ],
      "execution_count": null,
      "outputs": [
        {
          "output_type": "execute_result",
          "data": {
            "text/plain": [
              "Venta    25660\n",
              "Name: operation_type, dtype: int64"
            ]
          },
          "metadata": {
            "tags": []
          },
          "execution_count": 12
        }
      ]
    },
    {
      "cell_type": "code",
      "metadata": {
        "id": "EP1Bgz7vz8oB"
      },
      "source": [
        "x = train"
      ],
      "execution_count": null,
      "outputs": []
    },
    {
      "cell_type": "code",
      "metadata": {
        "id": "FcjWcD95zg5A",
        "outputId": "f7cfe0fc-4727-41a6-be7a-87a5960450e5",
        "colab": {
          "base_uri": "https://localhost:8080/",
          "height": 123
        }
      },
      "source": [
        "num = train.select_dtypes(exclude='object')\n",
        "\n",
        "num_corr = num.corr()\n",
        "\n",
        "#Plot the correlations in matplotlib\n",
        "\n",
        "f, ax = plt.subplots(figsize=(17,1))\n",
        "\n",
        "sns.heatmap(num_corr.sort_values(by=['price'], ascending=False).head(1), cmap='Reds')\n",
        "plt.title('Numerical Features Corr with price', weight='bold', fontsize=18)\n",
        "plt.xticks(weight='bold')\n",
        "plt.yticks(weight='bold', color='red', rotation=0)\n",
        "plt.show()"
      ],
      "execution_count": null,
      "outputs": [
        {
          "output_type": "display_data",
          "data": {
            "image/png": "[encoded data removed]",
            "text/plain": [
              "<Figure size 1224x72 with 2 Axes>"
            ]
          },
          "metadata": {
            "tags": [],
            "needs_background": "light"
          }
        }
      ]
    },
    {
      "cell_type": "code",
      "metadata": {
        "id": "glyX3nYX2BV6",
        "outputId": "04a54154-ae14-484c-e775-b9bbeedaad31",
        "colab": {
          "base_uri": "https://localhost:8080/",
          "height": 223
        }
      },
      "source": [
        "num_corr"
      ],
      "execution_count": null,
      "outputs": [
        {
          "output_type": "execute_result",
          "data": {
            "text/html": [
              "<div>\n",
              "<style scoped>\n",
              "    .dataframe tbody tr th:only-of-type {\n",
              "        vertical-align: middle;\n",
              "    }\n",
              "\n",
              "    .dataframe tbody tr th {\n",
              "        vertical-align: top;\n",
              "    }\n",
              "\n",
              "    .dataframe thead th {\n",
              "        text-align: right;\n",
              "    }\n",
              "</style>\n",
              "<table border=\"1\" class=\"dataframe\">\n",
              "  <thead>\n",
              "    <tr style=\"text-align: right;\">\n",
              "      <th></th>\n",
              "      <th>Id</th>\n",
              "      <th>rooms</th>\n",
              "      <th>bedrooms</th>\n",
              "      <th>bathrooms</th>\n",
              "      <th>surface_total</th>\n",
              "      <th>price</th>\n",
              "    </tr>\n",
              "  </thead>\n",
              "  <tbody>\n",
              "    <tr>\n",
              "      <th>Id</th>\n",
              "      <td>1.000000</td>\n",
              "      <td>-0.015550</td>\n",
              "      <td>-0.010679</td>\n",
              "      <td>-0.007393</td>\n",
              "      <td>-0.012638</td>\n",
              "      <td>-0.006418</td>\n",
              "    </tr>\n",
              "    <tr>\n",
              "      <th>rooms</th>\n",
              "      <td>-0.015550</td>\n",
              "      <td>1.000000</td>\n",
              "      <td>0.770108</td>\n",
              "      <td>0.429296</td>\n",
              "      <td>0.604974</td>\n",
              "      <td>0.430070</td>\n",
              "    </tr>\n",
              "    <tr>\n",
              "      <th>bedrooms</th>\n",
              "      <td>-0.010679</td>\n",
              "      <td>0.770108</td>\n",
              "      <td>1.000000</td>\n",
              "      <td>0.678597</td>\n",
              "      <td>0.686146</td>\n",
              "      <td>0.300356</td>\n",
              "    </tr>\n",
              "    <tr>\n",
              "      <th>bathrooms</th>\n",
              "      <td>-0.007393</td>\n",
              "      <td>0.429296</td>\n",
              "      <td>0.678597</td>\n",
              "      <td>1.000000</td>\n",
              "      <td>0.765760</td>\n",
              "      <td>0.405673</td>\n",
              "    </tr>\n",
              "    <tr>\n",
              "      <th>surface_total</th>\n",
              "      <td>-0.012638</td>\n",
              "      <td>0.604974</td>\n",
              "      <td>0.686146</td>\n",
              "      <td>0.765760</td>\n",
              "      <td>1.000000</td>\n",
              "      <td>0.664942</td>\n",
              "    </tr>\n",
              "    <tr>\n",
              "      <th>price</th>\n",
              "      <td>-0.006418</td>\n",
              "      <td>0.430070</td>\n",
              "      <td>0.300356</td>\n",
              "      <td>0.405673</td>\n",
              "      <td>0.664942</td>\n",
              "      <td>1.000000</td>\n",
              "    </tr>\n",
              "  </tbody>\n",
              "</table>\n",
              "</div>"
            ],
            "text/plain": [
              "                     Id     rooms  bedrooms  bathrooms  surface_total     price\n",
              "Id             1.000000 -0.015550 -0.010679  -0.007393      -0.012638 -0.006418\n",
              "rooms         -0.015550  1.000000  0.770108   0.429296       0.604974  0.430070\n",
              "bedrooms      -0.010679  0.770108  1.000000   0.678597       0.686146  0.300356\n",
              "bathrooms     -0.007393  0.429296  0.678597   1.000000       0.765760  0.405673\n",
              "surface_total -0.012638  0.604974  0.686146   0.765760       1.000000  0.664942\n",
              "price         -0.006418  0.430070  0.300356   0.405673       0.664942  1.000000"
            ]
          },
          "metadata": {
            "tags": []
          },
          "execution_count": 24
        }
      ]
    },
    {
      "cell_type": "code",
      "metadata": {
        "id": "a6YkcVrX3Jue"
      },
      "source": [
        ""
      ],
      "execution_count": null,
      "outputs": []
    }
  ]
}